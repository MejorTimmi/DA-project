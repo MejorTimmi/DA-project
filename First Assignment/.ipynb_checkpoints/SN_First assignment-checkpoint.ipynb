{
 "cells": [
  {
   "cell_type": "code",
   "execution_count": null,
   "metadata": {},
   "outputs": [],
   "source": []
  },
  {
   "cell_type": "code",
   "execution_count": 1,
   "metadata": {},
   "outputs": [
    {
     "name": "stdout",
     "output_type": "stream",
     "text": [
      "Enter the number One thousand: \n",
      "1000\n",
      "1000\n",
      "User input is a string but Int(num_str) is a number\n"
     ]
    }
   ],
   "source": [
    "#1. Convert string \"1000\" to an integer.\n",
    "\n",
    "num_str = input(\"Enter the number One thousand: \\n\")\n",
    "print (int(num_str))\n",
    "if num_str != \"1000\":\n",
    "    print(\"This is not the number One thousand\")\n",
    "elif num_str != int(num_str):\n",
    "    print (\"User input is a string but Int(num_str) is a number\")"
   ]
  },
  {
   "cell_type": "code",
   "execution_count": 2,
   "metadata": {},
   "outputs": [
    {
     "name": "stdout",
     "output_type": "stream",
     "text": [
      "This is a float datatype 3.764\n",
      "3.764 is being converted to integer 3\n"
     ]
    }
   ],
   "source": [
    "#Convert floating point to an Integer\n",
    "num_float = 3.764\n",
    "print(\"This is a float datatype \" + str(num_float))\n",
    "num_integer = int(num_float)\n",
    "print(str(num_float) + \" is being converted to integer \" + str(num_integer))"
   ]
  },
  {
   "cell_type": "code",
   "execution_count": 3,
   "metadata": {},
   "outputs": [
    {
     "name": "stdout",
     "output_type": "stream",
     "text": [
      "99.45\n",
      "$99.45 dollars\n"
     ]
    }
   ],
   "source": [
    "#Business expense represented as floating point number\n",
    "\n",
    "my_expenses = 99.45\n",
    "print(str(my_expenses))\n",
    "print (\"$\" + str(my_expenses)+ \" dollars\")"
   ]
  },
  {
   "cell_type": "code",
   "execution_count": 4,
   "metadata": {},
   "outputs": [],
   "source": [
    "#what does the type function do?\n",
    "\n",
    "#The type function returns the datatype of a particular result."
   ]
  },
  {
   "cell_type": "code",
   "execution_count": 5,
   "metadata": {},
   "outputs": [],
   "source": [
    "#What is a boolean? what are its two poosible values\n",
    "\n",
    "#A boolean is a datatype that returns two possible results. The two possible values are True and False."
   ]
  },
  {
   "cell_type": "code",
   "execution_count": 6,
   "metadata": {},
   "outputs": [],
   "source": [
    "#What is the technical term for the % operator?\n",
    "\n",
    "#The technical term for the % operator is \"modulus\". It outputs the remainder after a division."
   ]
  },
  {
   "cell_type": "code",
   "execution_count": 7,
   "metadata": {},
   "outputs": [
    {
     "name": "stdout",
     "output_type": "stream",
     "text": [
      "Okunade Timileyin\n"
     ]
    }
   ],
   "source": [
    "#Declare a fancy_name varaible and assign it a string with your name\n",
    "\n",
    "fancy_name = \"Okunade Timileyin\"\n",
    "print(fancy_name)"
   ]
  },
  {
   "cell_type": "code",
   "execution_count": 8,
   "metadata": {},
   "outputs": [
    {
     "name": "stdout",
     "output_type": "stream",
     "text": [
      "Enter whole number: \n",
      "24\n",
      "86400\n"
     ]
    }
   ],
   "source": [
    "#Converts hours to secs\n",
    "\n",
    "def Hours_to_secs ():\n",
    "    hour = int(input(\"Enter whole number: \\n\"))\n",
    "    return (hour*60*60)\n",
    "\n",
    "time = Hours_to_secs()\n",
    "print(time)"
   ]
  },
  {
   "cell_type": "code",
   "execution_count": 9,
   "metadata": {},
   "outputs": [
    {
     "data": {
      "text/plain": [
       "100"
      ]
     },
     "execution_count": 9,
     "metadata": {},
     "output_type": "execute_result"
    }
   ],
   "source": [
    "#Define an easy money function that accepts no parameters\n",
    "\n",
    "def easy_money():\n",
    "    return (100)\n",
    "\n",
    "easy_money()"
   ]
  },
  {
   "cell_type": "code",
   "execution_count": 10,
   "metadata": {},
   "outputs": [
    {
     "data": {
      "text/plain": [
       "'Sushi'"
      ]
     },
     "execution_count": 10,
     "metadata": {},
     "output_type": "execute_result"
    }
   ],
   "source": [
    "#Define a best food ever function\n",
    "\n",
    "def best_food_ever():\n",
    "    return(\"Sushi\")\n",
    "\n",
    "best_food_ever()"
   ]
  },
  {
   "cell_type": "code",
   "execution_count": 11,
   "metadata": {},
   "outputs": [
    {
     "name": "stdout",
     "output_type": "stream",
     "text": [
      "Enter a number: \n",
      "300\n"
     ]
    },
    {
     "data": {
      "text/plain": [
       "'$300'"
      ]
     },
     "execution_count": 11,
     "metadata": {},
     "output_type": "execute_result"
    }
   ],
   "source": [
    "#Define a covert_to_currency function\n",
    "\n",
    "def convert_to_currency(integer):\n",
    "    currency = \"$\" + integer\n",
    "    return(currency)\n",
    "\n",
    "\n",
    "integer = input(\"Enter a number: \\n\")\n",
    "convert_to_currency(integer)\n",
    "    "
   ]
  },
  {
   "cell_type": "code",
   "execution_count": 12,
   "metadata": {},
   "outputs": [
    {
     "name": "stdout",
     "output_type": "stream",
     "text": [
      "Enter a name: \n",
      "okunade\n",
      "Enter another name \n",
      "timileyin\n",
      " \n"
     ]
    },
    {
     "data": {
      "text/plain": [
       "'okunade timileyin'"
      ]
     },
     "execution_count": 12,
     "metadata": {},
     "output_type": "execute_result"
    }
   ],
   "source": [
    "#Define a string_adder function\n",
    "\n",
    "def string_adder(a, b):\n",
    "    if a or b == \"\":\n",
    "        print(\" \")\n",
    "    return (a + \" \"+ b)\n",
    "\n",
    "\n",
    "a = input(\"Enter a name: \\n\")\n",
    "b = input(\"Enter another name \\n\")\n",
    "string_adder(a, b)\n",
    "\n",
    "\n",
    "    "
   ]
  },
  {
   "cell_type": "code",
   "execution_count": 13,
   "metadata": {},
   "outputs": [
    {
     "name": "stdout",
     "output_type": "stream",
     "text": [
      "Type in a word: \n",
      "extinguisher\n",
      "False\n"
     ]
    }
   ],
   "source": [
    "#Define a long_word function\n",
    "\n",
    "def long_word(word):\n",
    "    word = input(\"Type in a word: \\n\")\n",
    "    if len(word) > 7:\n",
    "        print(\"This is a long word\")\n",
    "    else:\n",
    "        print(\"input is not a long word\")\n",
    "        \n",
    "        \n",
    "long_word(\"word\")"
   ]
  },
  {
   "cell_type": "code",
   "execution_count": 20,
   "metadata": {},
   "outputs": [],
   "source": [
    "#Define a same_first_and_last_letter function\n",
    "\n",
    "def same_first_and_last_letter (string):\n",
    "    strg = input(\"Type a sentence of your choice: \\n\")\n",
    "    string = strg\n",
    "    if string[0] == string[-1]:\n",
    "        return (\"First letter and last letter are equivalent\")\n",
    "    else:\n",
    "        return (\"The first letter is different from the last letter\")\n",
    "\n"
   ]
  },
  {
   "cell_type": "code",
   "execution_count": 21,
   "metadata": {},
   "outputs": [
    {
     "name": "stdout",
     "output_type": "stream",
     "text": [
      "Type a sentence of your choice: \n",
      "what is raw\n",
      "First letter and last letter are equivalent\n"
     ]
    }
   ],
   "source": [
    "start = same_first_and_last_letter(\"string\")\n",
    "print(start)"
   ]
  },
  {
   "cell_type": "code",
   "execution_count": 24,
   "metadata": {},
   "outputs": [
    {
     "name": "stdout",
     "output_type": "stream",
     "text": [
      "Enter a word: fireman\n",
      "fir\n"
     ]
    }
   ],
   "source": [
    "#Define a first_three_characters function\n",
    "\n",
    "def first_three_characters(char):\n",
    "    character = input(\"Enter a word: \")\n",
    "    char = character\n",
    "    return (char[0:3])\n",
    "\n",
    "word = first_three_characters(\"char\")\n",
    "print(word)"
   ]
  },
  {
   "cell_type": "code",
   "execution_count": null,
   "metadata": {},
   "outputs": [],
   "source": []
  }
 ],
 "metadata": {
  "kernelspec": {
   "display_name": "Python 3",
   "language": "python",
   "name": "python3"
  },
  "language_info": {
   "codemirror_mode": {
    "name": "ipython",
    "version": 3
   },
   "file_extension": ".py",
   "mimetype": "text/x-python",
   "name": "python",
   "nbconvert_exporter": "python",
   "pygments_lexer": "ipython3",
   "version": "3.7.6"
  }
 },
 "nbformat": 4,
 "nbformat_minor": 4
}
